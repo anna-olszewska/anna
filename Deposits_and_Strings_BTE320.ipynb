{
  "nbformat": 4,
  "nbformat_minor": 0,
  "metadata": {
    "colab": {
      "provenance": [],
      "authorship_tag": "ABX9TyOjGbOU/COQqfhW1vKzpMHp",
      "include_colab_link": true
    },
    "kernelspec": {
      "name": "python3",
      "display_name": "Python 3"
    },
    "language_info": {
      "name": "python"
    }
  },
  "cells": [
    {
      "cell_type": "markdown",
      "metadata": {
        "id": "view-in-github",
        "colab_type": "text"
      },
      "source": [
        "<a href=\"https://colab.research.google.com/github/anna-olszewska/anna/blob/main/Deposits_and_Strings_BTE320.ipynb\" target=\"_parent\"><img src=\"https://colab.research.google.com/assets/colab-badge.svg\" alt=\"Open In Colab\"/></a>"
      ]
    },
    {
      "cell_type": "markdown",
      "source": [
        "deposit > $10,000 .... IR = 3.5%\n",
        "\n",
        "$1,000 < deposit <= $10,000 .... IR = 3.25%\n",
        "\n",
        "deposit <= $10,000 .... IR = 3.0%\n",
        "\n",
        "total = (1 + IR/100) *deposit"
      ],
      "metadata": {
        "id": "IMAuxIs3bMr9"
      }
    },
    {
      "cell_type": "code",
      "execution_count": null,
      "metadata": {
        "id": "yYhTQTnJaoKr",
        "colab": {
          "base_uri": "https://localhost:8080/"
        },
        "outputId": "b7d1f9dc-efd1-4810-9595-ce8ad7529784"
      },
      "outputs": [
        {
          "output_type": "stream",
          "name": "stdout",
          "text": [
            "Enter customer type (n: new, e: existing):n\n",
            "Enter your deposit amount ($):10000\n",
            "total amount after applying interest rate : 10300.0 $\n"
          ]
        }
      ],
      "source": [
        "# Step 1: input deposit amount and customer type\n",
        "customer_type = input('Enter customer type (n: new, e: existing):')\n",
        "deposit = float(input('Enter your deposit amount ($):'))\n",
        "\n",
        "# step 2: Decide interest rate\n",
        "if customer_type == 'e':\n",
        "  if deposit > 10000:\n",
        "    ir = 3.5\n",
        "  elif deposit > 1000:\n",
        "    ir = 3.25\n",
        "  else:\n",
        "    ir = 3.0\n",
        "else:\n",
        "  ir = 3.0\n",
        "\n",
        "\n",
        "# step 3:display amount after interest is applied\n",
        "total = (1 + ir/100) * deposit\n",
        "print(f'total amount after applying interest rate : {round(total, 2)} $')"
      ]
    },
    {
      "cell_type": "markdown",
      "source": [
        "ROCK PAPER SCISSORS"
      ],
      "metadata": {
        "id": "8i6QwmgotsJM"
      }
    },
    {
      "cell_type": "code",
      "source": [
        "import random\n",
        "user_choice = input(\"Enter your choice (rock, paper, or scissors): \")\n",
        "computer_choice = random.choice([\"rock\", \"paper\", \"scissors\"])\n",
        "\n",
        "print(f\"You chose: {user_choice}\")\n",
        "print(f\"Computer chose: {computer_choice}\")\n",
        "\n",
        "if user_choice == computer_choice:\n",
        "    print(\"It's a tie!\")\n",
        "elif (\n",
        "    (user_choice == \"rock\" and computer_choice == \"scissors\") or\n",
        "    (user_choice == \"paper\" and computer_choice == \"rock\") or\n",
        "    (user_choice == \"scissors\" and computer_choice == \"paper\")\n",
        "):\n",
        "    print(\"You win!\")\n",
        "else:\n",
        "    print(\"Computer wins!\")"
      ],
      "metadata": {
        "colab": {
          "base_uri": "https://localhost:8080/"
        },
        "id": "izgPAurP3mou",
        "outputId": "37cb370a-a681-4bcc-8240-c213c974427d"
      },
      "execution_count": null,
      "outputs": [
        {
          "output_type": "stream",
          "name": "stdout",
          "text": [
            "Enter your choice (rock, paper, or scissors): rock\n",
            "You chose: rock\n",
            "Computer chose: rock\n",
            "It's a tie!\n"
          ]
        }
      ]
    },
    {
      "cell_type": "code",
      "source": [
        "import random\n",
        "user_input = input(\"Do you want to play a game (Yes or No)\")\n",
        "while user_input == \"yes\":\n",
        "  user_choice = input(\"Enter your choice (rock, paper, or scissors): \")\n",
        "  computer_choice = random.choice([\"rock\", \"paper\", \"scissors\"])\n",
        "\n",
        "  print(f\"You chose: {user_choice}\")\n",
        "  print(f\"Computer chose: {computer_choice}\")\n",
        "  if user_choice == computer_choice:\n",
        "    print(\"It's a tie!\")\n",
        "  elif (\n",
        "         (user_choice == \"rock\" and computer_choice == \"scissors\") or\n",
        "          (user_choice == \"paper\" and computer_choice == \"rock\") or\n",
        "           (user_choice == \"scissors\" and computer_choice == \"paper\")\n",
        "           ):\n",
        "      print(\"You win!\")\n",
        "\n",
        "  else:\n",
        "    print(\"Computer wins!\")\n",
        "  user_input = input(\"Do you want to play again?\")"
      ],
      "metadata": {
        "id": "M1YQyBH74TaX"
      },
      "execution_count": null,
      "outputs": []
    },
    {
      "cell_type": "code",
      "source": [
        "s = 'this is a test'\n",
        "len(s)"
      ],
      "metadata": {
        "colab": {
          "base_uri": "https://localhost:8080/"
        },
        "id": "bP_xLp6Z6tn-",
        "outputId": "1188ab12-6bf0-4699-a8f8-2b89fee1cfe4"
      },
      "execution_count": null,
      "outputs": [
        {
          "output_type": "execute_result",
          "data": {
            "text/plain": [
              "14"
            ]
          },
          "metadata": {},
          "execution_count": 5
        }
      ]
    },
    {
      "cell_type": "code",
      "source": [
        "s[8]"
      ],
      "metadata": {
        "colab": {
          "base_uri": "https://localhost:8080/",
          "height": 35
        },
        "id": "k960lqf066zn",
        "outputId": "eea5c5cb-c9f3-495a-cda5-4e40433f7c54"
      },
      "execution_count": null,
      "outputs": [
        {
          "output_type": "execute_result",
          "data": {
            "text/plain": [
              "'a'"
            ],
            "application/vnd.google.colaboratory.intrinsic+json": {
              "type": "string"
            }
          },
          "metadata": {},
          "execution_count": 6
        }
      ]
    },
    {
      "cell_type": "code",
      "source": [
        "s + ', and this is a test too'"
      ],
      "metadata": {
        "colab": {
          "base_uri": "https://localhost:8080/",
          "height": 35
        },
        "id": "4saGXrH27DlF",
        "outputId": "4dbbeec6-2828-437f-d589-ff8cce14b16d"
      },
      "execution_count": null,
      "outputs": [
        {
          "output_type": "execute_result",
          "data": {
            "text/plain": [
              "'this is a test, and this is a test too'"
            ],
            "application/vnd.google.colaboratory.intrinsic+json": {
              "type": "string"
            }
          },
          "metadata": {},
          "execution_count": 7
        }
      ]
    },
    {
      "cell_type": "code",
      "source": [
        "print(s)"
      ],
      "metadata": {
        "colab": {
          "base_uri": "https://localhost:8080/"
        },
        "id": "UPTe-_pk7SEj",
        "outputId": "d1195000-e821-4cc9-d97d-b1f0a616d2af"
      },
      "execution_count": null,
      "outputs": [
        {
          "output_type": "stream",
          "name": "stdout",
          "text": [
            "this is a test\n"
          ]
        }
      ]
    },
    {
      "cell_type": "markdown",
      "source": [
        "STRINGS ARE IMMUTABLE!"
      ],
      "metadata": {
        "id": "KA9lBSdw7bWR"
      }
    },
    {
      "cell_type": "code",
      "source": [
        "s2 = 'a'\n",
        "print(3*s2)"
      ],
      "metadata": {
        "colab": {
          "base_uri": "https://localhost:8080/"
        },
        "id": "Q-Of8Gd67aZP",
        "outputId": "950f6358-adfb-48c2-859c-1a78b273bf5f"
      },
      "execution_count": null,
      "outputs": [
        {
          "output_type": "stream",
          "name": "stdout",
          "text": [
            "aaa\n"
          ]
        }
      ]
    },
    {
      "cell_type": "code",
      "source": [
        "print(s)"
      ],
      "metadata": {
        "colab": {
          "base_uri": "https://localhost:8080/"
        },
        "id": "ya8aSGph-PHm",
        "outputId": "08a678b0-f468-45ba-f2e0-262bf50341c9"
      },
      "execution_count": null,
      "outputs": [
        {
          "output_type": "stream",
          "name": "stdout",
          "text": [
            "this is a test\n"
          ]
        }
      ]
    },
    {
      "cell_type": "code",
      "source": [
        "new_s = s[5:7:1]\n",
        "print(new_s)"
      ],
      "metadata": {
        "colab": {
          "base_uri": "https://localhost:8080/"
        },
        "id": "X5afCYkR-R9n",
        "outputId": "8995c271-afb9-4cec-fbb8-3d6642606cfd"
      },
      "execution_count": null,
      "outputs": [
        {
          "output_type": "stream",
          "name": "stdout",
          "text": [
            "is\n"
          ]
        }
      ]
    },
    {
      "cell_type": "code",
      "source": [
        "ex = 'This is another test!'\n",
        "print(ex[len(ex) -1], ex[20], ex[-1])"
      ],
      "metadata": {
        "colab": {
          "base_uri": "https://localhost:8080/"
        },
        "id": "Vqs_krC8DBBx",
        "outputId": "867ef246-af74-41e2-e640-929567aa9dfc"
      },
      "execution_count": null,
      "outputs": [
        {
          "output_type": "stream",
          "name": "stdout",
          "text": [
            "! ! !\n"
          ]
        }
      ]
    },
    {
      "cell_type": "code",
      "source": [
        "print(ex[8:15:2])"
      ],
      "metadata": {
        "colab": {
          "base_uri": "https://localhost:8080/"
        },
        "id": "gEi6FUjcDQJW",
        "outputId": "a203f169-fb81-48fe-c586-d2e4db7eb1c7"
      },
      "execution_count": null,
      "outputs": [
        {
          "output_type": "stream",
          "name": "stdout",
          "text": [
            "aohr\n"
          ]
        }
      ]
    },
    {
      "cell_type": "code",
      "source": [
        "ex[16:]"
      ],
      "metadata": {
        "colab": {
          "base_uri": "https://localhost:8080/",
          "height": 35
        },
        "id": "fuEdj5JoDT90",
        "outputId": "cc5f69a4-a2fa-4ced-fa37-d237c7f9b2f6"
      },
      "execution_count": null,
      "outputs": [
        {
          "output_type": "execute_result",
          "data": {
            "text/plain": [
              "'test!'"
            ],
            "application/vnd.google.colaboratory.intrinsic+json": {
              "type": "string"
            }
          },
          "metadata": {},
          "execution_count": 12
        }
      ]
    },
    {
      "cell_type": "code",
      "source": [
        "s = 'This is a test'\n",
        "\n",
        "for index in range(len(s)):\n",
        "  print(s[index])\n",
        "\n",
        "for c in s:\n",
        "  print(c)"
      ],
      "metadata": {
        "colab": {
          "base_uri": "https://localhost:8080/"
        },
        "id": "ifwXvZb88Yfw",
        "outputId": "89452dd9-abb6-41f5-a620-3a38beb9ee06"
      },
      "execution_count": null,
      "outputs": [
        {
          "output_type": "stream",
          "name": "stdout",
          "text": [
            "T\n",
            "h\n",
            "i\n",
            "s\n",
            " \n",
            "i\n",
            "s\n",
            " \n",
            "a\n",
            " \n",
            "t\n",
            "e\n",
            "s\n",
            "t\n",
            "T\n",
            "h\n",
            "i\n",
            "s\n",
            " \n",
            "i\n",
            "s\n",
            " \n",
            "a\n",
            " \n",
            "t\n",
            "e\n",
            "s\n",
            "t\n"
          ]
        }
      ]
    },
    {
      "cell_type": "code",
      "source": [
        "s1 = 'abcdefg'\n",
        "s2 = 'abdght'\n",
        "\n",
        "for index in range(len(s1)):\n",
        "  if s1[index] in s2:\n",
        "    print(s1[index])"
      ],
      "metadata": {
        "colab": {
          "base_uri": "https://localhost:8080/"
        },
        "id": "iBWbSri0-e6M",
        "outputId": "b60ee569-5d1f-4fd5-bf27-5ac31d1035b9"
      },
      "execution_count": null,
      "outputs": [
        {
          "output_type": "stream",
          "name": "stdout",
          "text": [
            "a\n",
            "b\n",
            "d\n",
            "g\n"
          ]
        }
      ]
    },
    {
      "cell_type": "code",
      "source": [
        "s1 = 'abcdefg'\n",
        "s2 = 'abdght'\n",
        "\n",
        "for char in s1:\n",
        "  if char in s2:\n",
        "    print(char)"
      ],
      "metadata": {
        "colab": {
          "base_uri": "https://localhost:8080/"
        },
        "id": "V-6lxxL4AGcq",
        "outputId": "17e39904-d9ba-4642-b47d-20a82ecdbbb5"
      },
      "execution_count": null,
      "outputs": [
        {
          "output_type": "stream",
          "name": "stdout",
          "text": [
            "a\n",
            "b\n",
            "d\n",
            "g\n"
          ]
        }
      ]
    }
  ]
}