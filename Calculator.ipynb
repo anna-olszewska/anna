{
  "nbformat": 4,
  "nbformat_minor": 0,
  "metadata": {
    "colab": {
      "provenance": [],
      "authorship_tag": "ABX9TyPOmlU1dL8hkoUeGPN2WJVB",
      "include_colab_link": true
    },
    "kernelspec": {
      "name": "python3",
      "display_name": "Python 3"
    },
    "language_info": {
      "name": "python"
    }
  },
  "cells": [
    {
      "cell_type": "markdown",
      "metadata": {
        "id": "view-in-github",
        "colab_type": "text"
      },
      "source": [
        "<a href=\"https://colab.research.google.com/github/anna-olszewska/anna/blob/main/Calculator.ipynb\" target=\"_parent\"><img src=\"https://colab.research.google.com/assets/colab-badge.svg\" alt=\"Open In Colab\"/></a>"
      ]
    },
    {
      "cell_type": "code",
      "execution_count": null,
      "metadata": {
        "id": "E34LtrGuiq8R",
        "colab": {
          "base_uri": "https://localhost:8080/"
        },
        "outputId": "68eb0b98-a5d8-49fe-f044-08c49f731110"
      },
      "outputs": [
        {
          "output_type": "stream",
          "name": "stdout",
          "text": [
            "would you like to use the calculator? yes or no: yes\n",
            "enter your operator choice (+, -, *, **, /, //, %)+\n",
            "enter your first number:3\n",
            "enter your second number:4\n",
            "7.0\n"
          ]
        }
      ],
      "source": [
        "user_choice = input(\"would you like to use the calculator? yes or no: \")\n",
        "\n",
        "while user_choice == \"yes\":\n",
        "  operator = input(\"enter your operator choice (+, -, *, **, /, //, %)\")\n",
        "  n1 = float(input(\"enter your first number:\"))\n",
        "  n2 = float(input(\"enter your second number:\"))\n",
        "  if operator == \"break\":\n",
        "    break\n",
        "  elif operator == \"+\":\n",
        "    print(n1 + n2)\n",
        "  elif operator == \"-\":\n",
        "    print (n1 - n2)\n",
        "  elif operator == \"*\":\n",
        "    print(n1 * n2)\n",
        "  elif operator == \"**\":\n",
        "    print(n1 ** n2)\n",
        "  elif operator == \"/\":\n",
        "    print(n1 / n2)\n",
        "  elif operator == \"//\":\n",
        "    print(n1 // n2)\n",
        "  elif operator == \"%\":\n",
        "    print(n1 % n2)\n",
        "  else:\n",
        "    continue\n",
        "\n",
        "\n",
        "\n",
        "\n",
        "\n",
        "\n",
        "\n"
      ]
    }
  ]
}