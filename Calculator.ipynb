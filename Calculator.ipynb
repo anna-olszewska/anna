{
  "cells": [
    {
      "cell_type": "markdown",
      "metadata": {
        "id": "view-in-github",
        "colab_type": "text"
      },
      "source": [
        "<a href=\"https://colab.research.google.com/github/anna-olszewska/anna/blob/main/Calculator.ipynb\" target=\"_parent\"><img src=\"https://colab.research.google.com/assets/colab-badge.svg\" alt=\"Open In Colab\"/></a>"
      ]
    },
    {
      "cell_type": "code",
      "execution_count": null,
      "metadata": {
        "colab": {
          "background_save": true,
          "base_uri": "https://localhost:8080/"
        },
        "id": "E34LtrGuiq8R",
        "outputId": "900fe5cc-d809-44aa-8e67-5e339fcbdf61"
      },
      "outputs": [
        {
          "name": "stdout",
          "output_type": "stream",
          "text": [
            "7.0\n"
          ]
        }
      ],
      "source": [
        "user_choice = input(\"would you like to use the calculator? yes or no: \")\n",
        "\n",
        "while user_choice == \"yes\":\n",
        "  operator = input(\"enter your operator choice (+, -, *, **, /, //, %)\")\n",
        "  n1 = float(input(\"enter your first number:\"))\n",
        "  n2 = float(input(\"enter your second number:\"))\n",
        "  if operator == \"break\":\n",
        "    break\n",
        "  elif operator == \"+\":\n",
        "    print(n1 + n2)\n",
        "  elif operator == \"-\":\n",
        "    print (n1 - n2)\n",
        "  elif operator == \"*\":\n",
        "    print(n1 * n2)\n",
        "  elif operator == \"**\":\n",
        "    print(n1 ** n2)\n",
        "  elif operator == \"/\":\n",
        "    print(n1 / n2)\n",
        "  elif operator == \"//\":\n",
        "    print(n1 // n2)\n",
        "  elif operator == \"%\":\n",
        "    print(n1 % n2)\n",
        "  else:\n",
        "    continue\n",
        "\n",
        "\n",
        "\n",
        "\n",
        "\n",
        "\n",
        "\n"
      ]
    }
  ],
  "metadata": {
    "colab": {
      "provenance": [],
      "authorship_tag": "ABX9TyPOmlU1dL8hkoUeGPN2WJVB",
      "include_colab_link": true
    },
    "kernelspec": {
      "display_name": "Python 3",
      "name": "python3"
    },
    "language_info": {
      "name": "python"
    }
  },
  "nbformat": 4,
  "nbformat_minor": 0
}