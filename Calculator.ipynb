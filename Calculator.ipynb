{
  "nbformat": 4,
  "nbformat_minor": 0,
  "metadata": {
    "colab": {
      "provenance": [],
      "authorship_tag": "ABX9TyPRKyY+psaF4U4GQTedUqSO",
      "include_colab_link": true
    },
    "kernelspec": {
      "name": "python3",
      "display_name": "Python 3"
    },
    "language_info": {
      "name": "python"
    }
  },
  "cells": [
    {
      "cell_type": "markdown",
      "metadata": {
        "id": "view-in-github",
        "colab_type": "text"
      },
      "source": [
        "<a href=\"https://colab.research.google.com/github/anna-olszewska/anna/blob/main/Calculator.ipynb\" target=\"_parent\"><img src=\"https://colab.research.google.com/assets/colab-badge.svg\" alt=\"Open In Colab\"/></a>"
      ]
    },
    {
      "cell_type": "code",
      "execution_count": null,
      "metadata": {
        "id": "E34LtrGuiq8R",
        "colab": {
          "base_uri": "https://localhost:8080/"
        },
        "outputId": "0972f01f-dbee-44c9-adce-552366b79e37"
      },
      "outputs": [
        {
          "name": "stdout",
          "output_type": "stream",
          "text": [
            "would you like to use the calculator? yes or no: yes\n"
          ]
        }
      ],
      "source": [
        "user_choice = input(\"would you like to use the calculator? yes or no: \")\n",
        "while user_input == \"yes\":\n",
        "  operator = input(\"enter your operator choice (+, -, *, **, /, //, %)\")\n",
        "  n1 = float(input(\"enter your first number:\"))\n",
        "  n2 = float(input(\"enter your second number:\"))\n",
        "  if operator == \"break\":\n",
        "    break\n",
        "  elif operator == \"+\":\n",
        "    print(n1 + n2)\n",
        "  elif operator == \"-\":\n",
        "    print (n1 - n2)\n",
        "  elif operator == \"*\":\n",
        "    print(n1 * n2)\n",
        "  elif operator == \"**\":\n",
        "    print(n1 ** n2)\n",
        "  elif operator == \"/\":\n",
        "    print(n1 / n2)\n",
        "  elif operator == \"//\":\n",
        "    print(n1 // n2)\n",
        "  elif operator == \"%\":\n",
        "    print(n1 % n2)\n",
        "  else:\n",
        "    continue\n",
        "\n",
        "\n",
        "\n",
        "\n",
        "\n",
        "\n",
        "\n"
      ]
    }
  ]
}