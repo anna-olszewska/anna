{
  "nbformat": 4,
  "nbformat_minor": 0,
  "metadata": {
    "colab": {
      "provenance": [],
      "authorship_tag": "ABX9TyM3a7BvjLhGLhUKH/dnwOIA",
      "include_colab_link": true
    },
    "kernelspec": {
      "name": "python3",
      "display_name": "Python 3"
    },
    "language_info": {
      "name": "python"
    }
  },
  "cells": [
    {
      "cell_type": "markdown",
      "metadata": {
        "id": "view-in-github",
        "colab_type": "text"
      },
      "source": [
        "<a href=\"https://colab.research.google.com/github/anna-olszewska/anna/blob/main/class_3_19.ipynb\" target=\"_parent\"><img src=\"https://colab.research.google.com/assets/colab-badge.svg\" alt=\"Open In Colab\"/></a>"
      ]
    },
    {
      "cell_type": "code",
      "execution_count": null,
      "metadata": {
        "colab": {
          "base_uri": "https://localhost:8080/"
        },
        "id": "AXQ1ItbfjCrb",
        "outputId": "b5e07924-be33-473c-aa77-98d3e9793360"
      },
      "outputs": [
        {
          "output_type": "stream",
          "name": "stdout",
          "text": [
            "[1, 3, 5, 7, 9]\n"
          ]
        }
      ],
      "source": [
        "alist = []\n",
        "\n",
        "for i in range(10):\n",
        "  alist.append(i)\n",
        "  if i%2 == 0:\n",
        "    alist.pop()\n",
        "\n",
        "print(alist)"
      ]
    },
    {
      "cell_type": "code",
      "source": [
        "def fill(l):\n",
        "  for i in range(10):\n",
        "    l.append(i)\n",
        "    if i%2 == 0:\n",
        "      l.pop()\n",
        "  print(l)\n",
        "\n",
        "alist = []\n",
        "fill(alist)"
      ],
      "metadata": {
        "colab": {
          "base_uri": "https://localhost:8080/"
        },
        "id": "JgCDz4D1nMrW",
        "outputId": "98f2280f-7dba-4042-c242-89c3e43f55bf"
      },
      "execution_count": null,
      "outputs": [
        {
          "output_type": "stream",
          "name": "stdout",
          "text": [
            "[1, 3, 5, 7, 9]\n"
          ]
        }
      ]
    },
    {
      "cell_type": "markdown",
      "source": [
        "name of input paramenter like fill(l) does not have to match can be fill(alice)"
      ],
      "metadata": {
        "id": "NzYT2TGYotfa"
      }
    },
    {
      "cell_type": "code",
      "source": [
        "def greeting(n):\n",
        "  print(f'Hello {n}!')\n",
        "\n",
        "name = input('Enter a name: ')\n",
        "greeting(name)\n"
      ],
      "metadata": {
        "colab": {
          "base_uri": "https://localhost:8080/"
        },
        "id": "0F0lWxnnpv6D",
        "outputId": "6c0bcc8f-ad66-4d9c-c11a-237467ca6d90"
      },
      "execution_count": null,
      "outputs": [
        {
          "output_type": "stream",
          "name": "stdout",
          "text": [
            "Enter a name: Anna\n",
            "Hello Anna!\n"
          ]
        }
      ]
    },
    {
      "cell_type": "markdown",
      "source": [
        "two functions called are input and greeting"
      ],
      "metadata": {
        "id": "JQHghqeSr795"
      }
    },
    {
      "cell_type": "code",
      "source": [
        "def greeting(n):\n",
        "  return f'Hello {n}!'\n",
        "\n",
        "name = input('Enter a name: ')\n",
        "message = greeting(name)\n",
        "print(message)"
      ],
      "metadata": {
        "colab": {
          "base_uri": "https://localhost:8080/"
        },
        "id": "xzS804pAtO__",
        "outputId": "214c7306-219e-4d0a-fe0a-b1dd6fa9cfa7"
      },
      "execution_count": null,
      "outputs": [
        {
          "output_type": "stream",
          "name": "stdout",
          "text": [
            "Enter a name: anna\n",
            "Hello anna!\n"
          ]
        }
      ]
    },
    {
      "cell_type": "code",
      "source": [
        "def add_num(a, b):\n",
        "  c = a + b\n",
        "  c_sq = c ** 2\n",
        "  return c, c_sq\n",
        "\n",
        "x = 5\n",
        "y = 6\n",
        "c, c_sq = add_num(x, y)\n",
        "print(c_sq)"
      ],
      "metadata": {
        "colab": {
          "base_uri": "https://localhost:8080/"
        },
        "id": "shuQWOUptwXY",
        "outputId": "a8104eb5-14bc-4cc8-9ad7-1c46567c908b"
      },
      "execution_count": null,
      "outputs": [
        {
          "output_type": "stream",
          "name": "stdout",
          "text": [
            "121\n"
          ]
        }
      ]
    },
    {
      "cell_type": "code",
      "source": [
        "def add_num(a, b):\n",
        "  return a + b\n",
        "\n",
        "x = 5\n",
        "y = 6\n",
        "c = add_num(x, y)\n",
        "print(c)"
      ],
      "metadata": {
        "colab": {
          "base_uri": "https://localhost:8080/"
        },
        "id": "nAj3GZ6jvZnQ",
        "outputId": "21961a8d-1e1e-462a-b8f9-e4cc2d4a29ea"
      },
      "execution_count": null,
      "outputs": [
        {
          "output_type": "stream",
          "name": "stdout",
          "text": [
            "11\n"
          ]
        }
      ]
    },
    {
      "cell_type": "code",
      "source": [
        "def fill_new():\n",
        "  l = []\n",
        "\n",
        "  for i in range(10):\n",
        "    l.append(i)\n",
        "    if i%2 == 0:\n",
        "      l.pop()\n",
        "  print(l)\n",
        "\n",
        "\n",
        "fill_new()"
      ],
      "metadata": {
        "colab": {
          "base_uri": "https://localhost:8080/"
        },
        "id": "3ggT_YyswQdw",
        "outputId": "99866e2a-6d78-433b-ef35-4698bba99919"
      },
      "execution_count": null,
      "outputs": [
        {
          "output_type": "stream",
          "name": "stdout",
          "text": [
            "[1, 3, 5, 7, 9]\n"
          ]
        }
      ]
    }
  ]
}