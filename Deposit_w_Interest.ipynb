{
  "nbformat": 4,
  "nbformat_minor": 0,
  "metadata": {
    "colab": {
      "provenance": [],
      "authorship_tag": "ABX9TyNYPH8wUWM/8daheObULiKC",
      "include_colab_link": true
    },
    "kernelspec": {
      "name": "python3",
      "display_name": "Python 3"
    },
    "language_info": {
      "name": "python"
    }
  },
  "cells": [
    {
      "cell_type": "markdown",
      "metadata": {
        "id": "view-in-github",
        "colab_type": "text"
      },
      "source": [
        "<a href=\"https://colab.research.google.com/github/anna-olszewska/anna/blob/main/Deposit_w_Interest.ipynb\" target=\"_parent\"><img src=\"https://colab.research.google.com/assets/colab-badge.svg\" alt=\"Open In Colab\"/></a>"
      ]
    },
    {
      "cell_type": "code",
      "execution_count": 1,
      "metadata": {
        "colab": {
          "base_uri": "https://localhost:8080/"
        },
        "id": "la4Rel4kdZic",
        "outputId": "c4de4750-82ca-4263-a9ec-699566bb8c28"
      },
      "outputs": [
        {
          "output_type": "stream",
          "name": "stdout",
          "text": [
            "Enter customer type (n: new, e: existing):n\n",
            "Enter your deposit amount ($):10000\n",
            "total amount after applying interest rate : 10300.0 $\n"
          ]
        }
      ],
      "source": [
        "# Step 1: input deposit amount and customer type\n",
        "customer_type = input('Enter customer type (n: new, e: existing):')\n",
        "deposit = float(input('Enter your deposit amount ($):'))\n",
        "\n",
        "# step 2: Decide interest rate\n",
        "if customer_type == 'e':\n",
        "  if deposit > 10000:\n",
        "    ir = 3.5\n",
        "  elif deposit > 1000:\n",
        "    ir = 3.25\n",
        "  else:\n",
        "    ir = 3.0\n",
        "else:\n",
        "  ir = 3.0\n",
        "\n",
        "\n",
        "# step 3:display amount after interest is applied\n",
        "total = (1 + ir/100) * deposit\n",
        "print(f'total amount after applying interest rate : {round(total, 2)} $')"
      ]
    }
  ]
}