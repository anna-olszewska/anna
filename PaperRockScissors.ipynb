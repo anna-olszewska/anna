{
  "nbformat": 4,
  "nbformat_minor": 0,
  "metadata": {
    "colab": {
      "provenance": [],
      "authorship_tag": "ABX9TyNmMTdRaZxbTKwv4j9QqG0L",
      "include_colab_link": true
    },
    "kernelspec": {
      "name": "python3",
      "display_name": "Python 3"
    },
    "language_info": {
      "name": "python"
    }
  },
  "cells": [
    {
      "cell_type": "markdown",
      "metadata": {
        "id": "view-in-github",
        "colab_type": "text"
      },
      "source": [
        "<a href=\"https://colab.research.google.com/github/anna-olszewska/anna/blob/main/PaperRockScissors.ipynb\" target=\"_parent\"><img src=\"https://colab.research.google.com/assets/colab-badge.svg\" alt=\"Open In Colab\"/></a>"
      ]
    },
    {
      "cell_type": "code",
      "execution_count": 2,
      "metadata": {
        "colab": {
          "base_uri": "https://localhost:8080/"
        },
        "id": "Fu37Yrnd3DVU",
        "outputId": "36513233-94c4-4ce8-b8f2-0525a4eab118"
      },
      "outputs": [
        {
          "output_type": "stream",
          "name": "stdout",
          "text": [
            "Enter your choice (rock, paper, or scissors): rock\n",
            "You chose: rock\n",
            "Computer chose: scissors\n",
            "You win!\n"
          ]
        }
      ],
      "source": [
        "import random\n",
        "\n",
        "user_choice = input(\"Enter your choice (rock, paper, or scissors): \")\n",
        "computer_choice = random.choice([\"rock\", \"paper\", \"scissors\"])\n",
        "\n",
        "print(f\"You chose: {user_choice}\")\n",
        "print(f\"Computer chose: {computer_choice}\")\n",
        "\n",
        "if user_choice == computer_choice:\n",
        "    print(\"It's a tie!\")\n",
        "elif (\n",
        "    (user_choice == \"rock\" and computer_choice == \"scissors\") or\n",
        "    (user_choice == \"paper\" and computer_choice == \"rock\") or\n",
        "    (user_choice == \"scissors\" and computer_choice == \"paper\")\n",
        "):\n",
        "    print(\"You win!\")\n",
        "else:\n",
        "    print(\"Computer wins!\")"
      ]
    }
  ]
}