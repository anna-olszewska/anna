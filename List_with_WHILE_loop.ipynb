{
  "nbformat": 4,
  "nbformat_minor": 0,
  "metadata": {
    "colab": {
      "provenance": [],
      "authorship_tag": "ABX9TyPRYeOq69okNirFEMv59t+1",
      "include_colab_link": true
    },
    "kernelspec": {
      "name": "python3",
      "display_name": "Python 3"
    },
    "language_info": {
      "name": "python"
    }
  },
  "cells": [
    {
      "cell_type": "markdown",
      "metadata": {
        "id": "view-in-github",
        "colab_type": "text"
      },
      "source": [
        "<a href=\"https://colab.research.google.com/github/anna-olszewska/anna/blob/main/List_with_WHILE_loop.ipynb\" target=\"_parent\"><img src=\"https://colab.research.google.com/assets/colab-badge.svg\" alt=\"Open In Colab\"/></a>"
      ]
    },
    {
      "cell_type": "code",
      "execution_count": 1,
      "metadata": {
        "colab": {
          "base_uri": "https://localhost:8080/"
        },
        "id": "5PkebI2Gfqi0",
        "outputId": "aad5cbba-c0f2-491f-8ab7-17c3c56076a1"
      },
      "outputs": [
        {
          "output_type": "stream",
          "name": "stdout",
          "text": [
            "enter a value: 3\n",
            "enter a value: 4\n",
            "enter a value: 5\n",
            "enter a value: 6\n",
            "enter a value: 7\n",
            "enter a value: 0\n",
            "[3, 4, 5, 6, 7]\n"
          ]
        }
      ],
      "source": [
        "L = []\n",
        "n = int(input('enter a value: '))\n",
        "while n != 0:\n",
        "  L.append(n)\n",
        "  n = int(input('enter a value: '))\n",
        "print(L)"
      ]
    }
  ]
}