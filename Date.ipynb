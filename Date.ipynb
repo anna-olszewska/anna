{
  "nbformat": 4,
  "nbformat_minor": 0,
  "metadata": {
    "colab": {
      "provenance": [],
      "authorship_tag": "ABX9TyP1Lwu0meoI7E/fZa5Kubpi",
      "include_colab_link": true
    },
    "kernelspec": {
      "name": "python3",
      "display_name": "Python 3"
    },
    "language_info": {
      "name": "python"
    }
  },
  "cells": [
    {
      "cell_type": "markdown",
      "metadata": {
        "id": "view-in-github",
        "colab_type": "text"
      },
      "source": [
        "<a href=\"https://colab.research.google.com/github/anna-olszewska/anna/blob/main/Date.ipynb\" target=\"_parent\"><img src=\"https://colab.research.google.com/assets/colab-badge.svg\" alt=\"Open In Colab\"/></a>"
      ]
    },
    {
      "cell_type": "code",
      "execution_count": 1,
      "metadata": {
        "colab": {
          "base_uri": "https://localhost:8080/"
        },
        "id": "GtI1NCbUewSw",
        "outputId": "32e81138-3d38-442b-85b2-37a8452eb1a8"
      },
      "outputs": [
        {
          "output_type": "stream",
          "name": "stdout",
          "text": [
            "Enter a date in the format mm/dd/yyyy: 07/30/2002\n",
            "the month is 07\n",
            "the day is 30\n",
            "the year is 2002\n"
          ]
        }
      ],
      "source": [
        "#write a program that takes as an input from the keyboard a string that corresponds to a date (eg. 02/20/2024)...mm/dd/yyyy\n",
        "user_input = input(f\"Enter a date in the format mm/dd/yyyy: \")\n",
        "date = user_input\n",
        "m = date[0:2]\n",
        "print(f\"the month is {m}\")\n",
        "d = date[3:5]\n",
        "print(f\"the day is {d}\")\n",
        "y = date[6:10]\n",
        "print(f\"the year is {y}\")"
      ]
    }
  ]
}