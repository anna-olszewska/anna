{
  "nbformat": 4,
  "nbformat_minor": 0,
  "metadata": {
    "colab": {
      "provenance": [],
      "authorship_tag": "ABX9TyP0JPJpV5auERAtELiiqQug",
      "include_colab_link": true
    },
    "kernelspec": {
      "name": "python3",
      "display_name": "Python 3"
    },
    "language_info": {
      "name": "python"
    }
  },
  "cells": [
    {
      "cell_type": "markdown",
      "metadata": {
        "id": "view-in-github",
        "colab_type": "text"
      },
      "source": [
        "<a href=\"https://colab.research.google.com/github/anna-olszewska/anna/blob/main/exceptions.ipynb\" target=\"_parent\"><img src=\"https://colab.research.google.com/assets/colab-badge.svg\" alt=\"Open In Colab\"/></a>"
      ]
    },
    {
      "cell_type": "code",
      "execution_count": null,
      "metadata": {
        "colab": {
          "base_uri": "https://localhost:8080/"
        },
        "id": "Yl79e6Zm_yca",
        "outputId": "581b4c5c-c8d0-4cd9-b592-5ace45d25030"
      },
      "outputs": [
        {
          "output_type": "stream",
          "name": "stdout",
          "text": [
            "Enter a numerator: 5\n",
            "Enter a denominator: 0\n",
            "Denominator is zero\n",
            "This will be displayed always\n",
            "program end\n"
          ]
        }
      ],
      "source": [
        "try:\n",
        "  a = float(input('Enter a numerator: '))\n",
        "  b = float(input('Enter a denominator: '))\n",
        "  print(a/b)\n",
        "  print('Division complete')\n",
        "except ZeroDivisionError:\n",
        "  print('Denominator is zero')\n",
        "except ValueError:\n",
        "  print('incompatible imput type; cannot be cast to numeric')\n",
        "except:\n",
        "  print('Unknown error')\n",
        "else:\n",
        "  print('Divison complete')\n",
        "finally:\n",
        "  print('This will be displayed always')\n",
        "\n",
        "print('program end')"
      ]
    }
  ]
}