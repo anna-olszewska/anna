{
  "nbformat": 4,
  "nbformat_minor": 0,
  "metadata": {
    "colab": {
      "provenance": [],
      "authorship_tag": "ABX9TyPRAgwB12uRadi18ChUMJ4z",
      "include_colab_link": true
    },
    "kernelspec": {
      "name": "python3",
      "display_name": "Python 3"
    },
    "language_info": {
      "name": "python"
    }
  },
  "cells": [
    {
      "cell_type": "markdown",
      "metadata": {
        "id": "view-in-github",
        "colab_type": "text"
      },
      "source": [
        "<a href=\"https://colab.research.google.com/github/anna-olszewska/anna/blob/main/ParkingGarage.ipynb\" target=\"_parent\"><img src=\"https://colab.research.google.com/assets/colab-badge.svg\" alt=\"Open In Colab\"/></a>"
      ]
    },
    {
      "cell_type": "code",
      "source": [
        "for i in range (1,9):\n",
        "  print(f'{i} hour costs ${5+2.5*i}')"
      ],
      "metadata": {
        "colab": {
          "base_uri": "https://localhost:8080/"
        },
        "id": "ibSCzRqty_9i",
        "outputId": "405090c7-278c-4453-c707-e0151b81d439"
      },
      "execution_count": null,
      "outputs": [
        {
          "output_type": "stream",
          "name": "stdout",
          "text": [
            "1 hour costs $7.5\n",
            "2 hour costs $10.0\n",
            "3 hour costs $12.5\n",
            "4 hour costs $15.0\n",
            "5 hour costs $17.5\n",
            "6 hour costs $20.0\n",
            "7 hour costs $22.5\n",
            "8 hour costs $25.0\n"
          ]
        }
      ]
    }
  ]
}