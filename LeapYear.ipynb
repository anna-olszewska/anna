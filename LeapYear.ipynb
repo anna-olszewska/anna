{
  "nbformat": 4,
  "nbformat_minor": 0,
  "metadata": {
    "colab": {
      "provenance": [],
      "authorship_tag": "ABX9TyNoKc0GaEyOk/WaxQTOyF3m",
      "include_colab_link": true
    },
    "kernelspec": {
      "name": "python3",
      "display_name": "Python 3"
    },
    "language_info": {
      "name": "python"
    }
  },
  "cells": [
    {
      "cell_type": "markdown",
      "metadata": {
        "id": "view-in-github",
        "colab_type": "text"
      },
      "source": [
        "<a href=\"https://colab.research.google.com/github/anna-olszewska/anna/blob/main/LeapYear.ipynb\" target=\"_parent\"><img src=\"https://colab.research.google.com/assets/colab-badge.svg\" alt=\"Open In Colab\"/></a>"
      ]
    },
    {
      "cell_type": "code",
      "execution_count": 1,
      "metadata": {
        "colab": {
          "base_uri": "https://localhost:8080/"
        },
        "id": "-fEVB4vtzChI",
        "outputId": "e4d4572c-f809-4c84-a61a-52a720a5f058"
      },
      "outputs": [
        {
          "output_type": "stream",
          "name": "stdout",
          "text": [
            "Year (int): 2024\n",
            "That's a Leap Year!\n"
          ]
        }
      ],
      "source": [
        "#LeapYear\n",
        "user_input = int(input(f'Year (int): '))\n",
        "\n",
        "if(user_input % 4 == 0 and user_input % 100 != 0) or user_input % 400 == 0:\n",
        "  print(\"That's a Leap Year!\")\n",
        "else:\n",
        "  print(\"That's not a Leap Year\")"
      ]
    }
  ]
}