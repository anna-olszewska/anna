{
  "nbformat": 4,
  "nbformat_minor": 0,
  "metadata": {
    "colab": {
      "provenance": [],
      "authorship_tag": "ABX9TyOy6TfQervNu+DnxOZ8Ta6C",
      "include_colab_link": true
    },
    "kernelspec": {
      "name": "python3",
      "display_name": "Python 3"
    },
    "language_info": {
      "name": "python"
    }
  },
  "cells": [
    {
      "cell_type": "markdown",
      "metadata": {
        "id": "view-in-github",
        "colab_type": "text"
      },
      "source": [
        "<a href=\"https://colab.research.google.com/github/anna-olszewska/anna/blob/main/Exam_1_Practice_BTE320.ipynb\" target=\"_parent\"><img src=\"https://colab.research.google.com/assets/colab-badge.svg\" alt=\"Open In Colab\"/></a>"
      ]
    },
    {
      "cell_type": "code",
      "execution_count": null,
      "metadata": {
        "colab": {
          "base_uri": "https://localhost:8080/"
        },
        "id": "8fdvHl7Grm_d",
        "outputId": "87a5b219-6920-44f0-efd1-429ce5c8cdbf"
      },
      "outputs": [
        {
          "output_type": "stream",
          "name": "stdout",
          "text": [
            "hello\n"
          ]
        }
      ],
      "source": [
        "x = 10\n",
        "if x > 5:\n",
        "  print(\"hello\")\n",
        "elif x < 15:\n",
        "  print(\"world\")\n",
        "else:\n",
        "  print(\"python\")"
      ]
    },
    {
      "cell_type": "code",
      "source": [
        "for i in range(3):\n",
        "  print(i)"
      ],
      "metadata": {
        "colab": {
          "base_uri": "https://localhost:8080/"
        },
        "id": "KIO2ot_pr-T2",
        "outputId": "8237c022-8d73-4c37-902c-bd2a6c5dc322"
      },
      "execution_count": null,
      "outputs": [
        {
          "output_type": "stream",
          "name": "stdout",
          "text": [
            "0\n",
            "1\n",
            "2\n"
          ]
        }
      ]
    },
    {
      "cell_type": "code",
      "source": [
        "x = 10\n",
        "if x < 5 or x % 2 == 0:\n",
        "  print(\"A\")\n",
        "elif x < 15:\n",
        "  print(\"B\")\n",
        "else:\n",
        "  print(\"C\")"
      ],
      "metadata": {
        "colab": {
          "base_uri": "https://localhost:8080/"
        },
        "id": "TMAEZr8dsQKx",
        "outputId": "0cc428c7-7eee-4c6e-e0c1-fe2524b1e617"
      },
      "execution_count": null,
      "outputs": [
        {
          "output_type": "stream",
          "name": "stdout",
          "text": [
            "A\n"
          ]
        }
      ]
    },
    {
      "cell_type": "code",
      "source": [
        "for i in range(5):\n",
        "  if i == 3:\n",
        "    continue\n",
        "  print(i)"
      ],
      "metadata": {
        "colab": {
          "base_uri": "https://localhost:8080/"
        },
        "id": "13l-A_NYsfWK",
        "outputId": "cd724ab3-c62e-4c40-fe88-027b616b6018"
      },
      "execution_count": null,
      "outputs": [
        {
          "output_type": "stream",
          "name": "stdout",
          "text": [
            "0\n",
            "1\n",
            "2\n",
            "4\n"
          ]
        }
      ]
    },
    {
      "cell_type": "code",
      "source": [
        "x = 5\n",
        "while x > 0:\n",
        "  print(x)\n",
        "  x -= 1"
      ],
      "metadata": {
        "colab": {
          "base_uri": "https://localhost:8080/"
        },
        "id": "-iFgEYaHlIXV",
        "outputId": "7fc4a8ff-bc46-4ac8-98b8-32349ea826ec"
      },
      "execution_count": null,
      "outputs": [
        {
          "output_type": "stream",
          "name": "stdout",
          "text": [
            "5\n",
            "4\n",
            "3\n",
            "2\n",
            "1\n"
          ]
        }
      ]
    },
    {
      "cell_type": "code",
      "source": [
        "for i in range(1, 6):\n",
        "  if i % 2 == 0:\n",
        "    break\n",
        "  print(i)"
      ],
      "metadata": {
        "colab": {
          "base_uri": "https://localhost:8080/"
        },
        "id": "4w-VIvM0lgV3",
        "outputId": "e52376da-5375-4fad-f981-f8b397924cf5"
      },
      "execution_count": null,
      "outputs": [
        {
          "output_type": "stream",
          "name": "stdout",
          "text": [
            "1\n"
          ]
        }
      ]
    },
    {
      "cell_type": "code",
      "source": [
        "#write a program that takes as an input from the keyboard a string that corresponds to a date (eg. 02/20/2024)...mm/dd/yyyy\n",
        "user_input = input(f\"Enter a date in the format mm/dd/yyyy: \")\n",
        "date = user_input\n",
        "m = date[0:2]\n",
        "print(f\"the month is {m}\")\n",
        "d = date[3:5]\n",
        "print(f\"the day is {d}\")\n",
        "y = date[6:10]\n",
        "print(f\"the year is {y}\")\n",
        "\n",
        "\n",
        "\n",
        "\n",
        "\n"
      ],
      "metadata": {
        "colab": {
          "base_uri": "https://localhost:8080/"
        },
        "id": "kN22IVADw2Wi",
        "outputId": "776b4431-f825-4325-cf4e-c05e7d1536de"
      },
      "execution_count": null,
      "outputs": [
        {
          "output_type": "stream",
          "name": "stdout",
          "text": [
            "Enter a date in the format mm/dd/yyyy: 07/30/2002\n",
            "the month is 07\n",
            "the day is 30\n",
            "the year is 2002\n"
          ]
        }
      ]
    },
    {
      "cell_type": "code",
      "source": [
        "x = 2\n",
        "if x > 5:\n",
        "  print(\"Hello\")\n",
        "else:\n",
        "  if x % 3 != 0:\n",
        "    print(\"World\")\n",
        "  else:\n",
        "      print(\"Hello World\")"
      ],
      "metadata": {
        "colab": {
          "base_uri": "https://localhost:8080/"
        },
        "id": "hyhuSnNWozeS",
        "outputId": "9a3bb01c-170b-4e31-dd4d-be8a10f3f7c2"
      },
      "execution_count": null,
      "outputs": [
        {
          "output_type": "stream",
          "name": "stdout",
          "text": [
            "World\n"
          ]
        }
      ]
    },
    {
      "cell_type": "code",
      "source": [
        "for i in range(3):\n",
        "  print(i)\n",
        "print(\"Done\")"
      ],
      "metadata": {
        "colab": {
          "base_uri": "https://localhost:8080/"
        },
        "id": "42Sig9T3pHh3",
        "outputId": "4fc05a57-c212-496f-eb07-cc0a072f1491"
      },
      "execution_count": null,
      "outputs": [
        {
          "output_type": "stream",
          "name": "stdout",
          "text": [
            "0\n",
            "1\n",
            "2\n",
            "Done\n"
          ]
        }
      ]
    },
    {
      "cell_type": "code",
      "source": [
        "x = 5\n",
        "while x > 0:\n",
        "  print(x)\n",
        "  x -= 2"
      ],
      "metadata": {
        "colab": {
          "base_uri": "https://localhost:8080/"
        },
        "id": "abYbsdIspQeE",
        "outputId": "88300ea8-16a0-4b60-f624-aa83fa9ece02"
      },
      "execution_count": null,
      "outputs": [
        {
          "output_type": "stream",
          "name": "stdout",
          "text": [
            "5\n",
            "3\n",
            "1\n"
          ]
        }
      ]
    },
    {
      "cell_type": "code",
      "source": [
        "grades = {\n",
        "    'Alice': 91,\n",
        "    'Bob': 88,\n",
        "    'Tracy': 93,\n",
        "    'Erik': 90\n",
        "}"
      ],
      "metadata": {
        "id": "3Koaifa7qQFE"
      },
      "execution_count": null,
      "outputs": []
    },
    {
      "cell_type": "code",
      "source": [
        "grades['Alice'] = 95\n",
        "grades"
      ],
      "metadata": {
        "colab": {
          "base_uri": "https://localhost:8080/"
        },
        "id": "Qwak8T6vrXBd",
        "outputId": "8b74227b-9ae0-4ec5-ec25-addde1fa2d81"
      },
      "execution_count": null,
      "outputs": [
        {
          "output_type": "execute_result",
          "data": {
            "text/plain": [
              "{'Alice': 95, 'Bob': 88, 'Tracy': 93, 'Erik': 90}"
            ]
          },
          "metadata": {},
          "execution_count": 7
        }
      ]
    },
    {
      "cell_type": "code",
      "source": [
        "for value in grades.values():\n",
        "  print(value)"
      ],
      "metadata": {
        "colab": {
          "base_uri": "https://localhost:8080/"
        },
        "id": "XojHVuEEsen1",
        "outputId": "b27efc77-da90-46d3-a2a9-73ad22c5360c"
      },
      "execution_count": null,
      "outputs": [
        {
          "output_type": "stream",
          "name": "stdout",
          "text": [
            "95\n",
            "88\n",
            "93\n",
            "90\n"
          ]
        }
      ]
    },
    {
      "cell_type": "markdown",
      "source": [
        "Memorize the four methods needed for strings\n",
        "d.keys()\n",
        "d.values()\n",
        "L.append(item)\n",
        "L.extend(iterate)\n",
        "L.pop()...index = -1\n",
        "L.sort()reserse = true...decsending order"
      ],
      "metadata": {
        "id": "uM_tDpfVyd-o"
      }
    },
    {
      "cell_type": "code",
      "source": [
        "for key in grades.keys():\n",
        "  print(key)\n",
        "\n",
        "for value in grades.values():\n",
        "  print(value)\n",
        "print()\n",
        "for key, value in grades.items():\n",
        "  print(key, value)"
      ],
      "metadata": {
        "colab": {
          "base_uri": "https://localhost:8080/"
        },
        "id": "Vu4lqfSv9hO8",
        "outputId": "c1d3487a-bc64-417d-947b-f5bd1fd58210"
      },
      "execution_count": null,
      "outputs": [
        {
          "output_type": "stream",
          "name": "stdout",
          "text": [
            "Alice\n",
            "Bob\n",
            "Tracy\n",
            "Erik\n",
            "95\n",
            "88\n",
            "93\n",
            "90\n",
            "\n",
            "Alice 95\n",
            "Bob 88\n",
            "Tracy 93\n",
            "Erik 90\n"
          ]
        }
      ]
    }
  ]
}