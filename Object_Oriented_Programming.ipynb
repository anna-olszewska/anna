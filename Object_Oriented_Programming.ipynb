{
  "nbformat": 4,
  "nbformat_minor": 0,
  "metadata": {
    "colab": {
      "provenance": [],
      "authorship_tag": "ABX9TyMKfRN6ARih7XoszKV7zVUM",
      "include_colab_link": true
    },
    "kernelspec": {
      "name": "python3",
      "display_name": "Python 3"
    },
    "language_info": {
      "name": "python"
    }
  },
  "cells": [
    {
      "cell_type": "markdown",
      "metadata": {
        "id": "view-in-github",
        "colab_type": "text"
      },
      "source": [
        "<a href=\"https://colab.research.google.com/github/anna-olszewska/anna/blob/main/Object_Oriented_Programming.ipynb\" target=\"_parent\"><img src=\"https://colab.research.google.com/assets/colab-badge.svg\" alt=\"Open In Colab\"/></a>"
      ]
    },
    {
      "cell_type": "code",
      "execution_count": null,
      "metadata": {
        "id": "Iyv8-nal0o6e"
      },
      "outputs": [],
      "source": [
        "#Data == Attributes: What an object is\n",
        "#Behavior == methods: What an object can do"
      ]
    },
    {
      "cell_type": "code",
      "source": [
        "class Animal:\n",
        "  # This is the constructor method...used to initialize the values of\n",
        "  #the instance attributes (aka Data) of each\n",
        "  #class instance (aka Object)\n",
        "  def __init__(self, dims, weight, life_exp):\n",
        "    self.dims = dims #setting up instance attributes\n",
        "    self.weight = weight\n",
        "    self.life_exp = life_exp\n",
        "    self.name = None"
      ],
      "metadata": {
        "id": "veOLBU--5_Ln"
      },
      "execution_count": null,
      "outputs": []
    },
    {
      "cell_type": "code",
      "source": [
        "a = Animal([1,2,3], 10.9, 80)"
      ],
      "metadata": {
        "id": "HmfJ0jer_P-4"
      },
      "execution_count": null,
      "outputs": []
    },
    {
      "cell_type": "code",
      "source": [
        "class Car:\n",
        "  def __init__(self, make, model, year):\n",
        "    self.make = make\n",
        "    self.model = model\n",
        "    self.year = year\n",
        "    self.utility = 'SUV'\n",
        "\n",
        "  def accelerate(self):\n",
        "    print(f'The car {self.make} accelerates.')"
      ],
      "metadata": {
        "id": "ewhhA_J9DOay"
      },
      "execution_count": null,
      "outputs": []
    },
    {
      "cell_type": "markdown",
      "source": [
        "self = always first but not key word"
      ],
      "metadata": {
        "id": "U2VMOwCW0TUI"
      }
    },
    {
      "cell_type": "code",
      "source": [
        "c = Car('Ford', 150, '2023')\n",
        "d = Car('Chrysler', 300, '2020')"
      ],
      "metadata": {
        "id": "UH5OAFcWFF_e"
      },
      "execution_count": null,
      "outputs": []
    },
    {
      "cell_type": "code",
      "source": [
        "d.accelerate()"
      ],
      "metadata": {
        "colab": {
          "base_uri": "https://localhost:8080/"
        },
        "id": "Flzm5nKsGc7W",
        "outputId": "576fa471-8802-462a-ee8a-f90b884bc492"
      },
      "execution_count": null,
      "outputs": [
        {
          "output_type": "stream",
          "name": "stdout",
          "text": [
            "The car Chrysler accelerates.\n"
          ]
        }
      ]
    },
    {
      "cell_type": "code",
      "source": [
        "Car.accelerate(c)"
      ],
      "metadata": {
        "colab": {
          "base_uri": "https://localhost:8080/"
        },
        "id": "tsAcxyW2HjHM",
        "outputId": "1ddda746-b415-408f-8831-8c0e4ee97743"
      },
      "execution_count": null,
      "outputs": [
        {
          "output_type": "stream",
          "name": "stdout",
          "text": [
            "The car Ford accelerates.\n"
          ]
        }
      ]
    },
    {
      "cell_type": "code",
      "source": [
        "#fixed rate monthly mortgage\n",
        "#inital loan amount, time to maturity, fixed annual interest rate(%)\n",
        "# how much is the monthly payment?\n",
        "#inital amount = B (months), IR (r)"
      ],
      "metadata": {
        "id": "JcPyI_L6JJ6Z"
      },
      "execution_count": null,
      "outputs": []
    },
    {
      "cell_type": "code",
      "source": [
        "class Mortgage:\n",
        "  def __init__(self, initial, term, interest):\n",
        "    self.initial = initial\n",
        "    self.term = term\n",
        "    self.__interest = interest\n",
        "\n",
        "  def __str__(self):\n",
        "    return (f'Mortgage info: \\n Initial: ${self.initial}\\n Term: {self.term} years \\n Interest: {self.__interest}%')\n",
        "\n",
        "  def get_interest(self):\n",
        "    return self.__interest\n",
        "\n",
        "  def set_interest(self, newInterest):\n",
        "    if newInterest >= 0:\n",
        "      self.__interest = newInterest\n",
        "    else:\n",
        "      print('Please give non-negative interest')\n",
        "\n",
        "  def payment(self):\n",
        "    B = self.initial\n",
        "    n = self.term * 12\n",
        "    r = self.__interest/100\n",
        "    return B*(r*((1+r)**n))/(((1+r)**n)-1)\n"
      ],
      "metadata": {
        "id": "MB59AgSTJb7R"
      },
      "execution_count": null,
      "outputs": []
    },
    {
      "cell_type": "code",
      "source": [
        "m = Mortgage(100000, 30, 6)\n",
        "\n",
        "m.payment()"
      ],
      "metadata": {
        "colab": {
          "base_uri": "https://localhost:8080/"
        },
        "id": "LdcxrqUKLZql",
        "outputId": "633da4e2-28af-4d44-ec2a-7ce208ab5a60"
      },
      "execution_count": null,
      "outputs": [
        {
          "output_type": "execute_result",
          "data": {
            "text/plain": [
              "6000.000004656286"
            ]
          },
          "metadata": {},
          "execution_count": 90
        }
      ]
    },
    {
      "cell_type": "code",
      "source": [
        "m.__interest"
      ],
      "metadata": {
        "colab": {
          "base_uri": "https://localhost:8080/",
          "height": 144
        },
        "id": "kmPP4pRZ1X5t",
        "outputId": "e746b0f0-9774-4ef8-e727-02bf107e00ed"
      },
      "execution_count": null,
      "outputs": [
        {
          "output_type": "error",
          "ename": "AttributeError",
          "evalue": "'Mortgage' object has no attribute '__interest'",
          "traceback": [
            "\u001b[0;31m---------------------------------------------------------------------------\u001b[0m",
            "\u001b[0;31mAttributeError\u001b[0m                            Traceback (most recent call last)",
            "\u001b[0;32m<ipython-input-91-293f056cf655>\u001b[0m in \u001b[0;36m<cell line: 1>\u001b[0;34m()\u001b[0m\n\u001b[0;32m----> 1\u001b[0;31m \u001b[0mm\u001b[0m\u001b[0;34m.\u001b[0m\u001b[0m__interest\u001b[0m\u001b[0;34m\u001b[0m\u001b[0;34m\u001b[0m\u001b[0m\n\u001b[0m",
            "\u001b[0;31mAttributeError\u001b[0m: 'Mortgage' object has no attribute '__interest'"
          ]
        }
      ]
    },
    {
      "cell_type": "code",
      "source": [
        "m.get_interest()"
      ],
      "metadata": {
        "colab": {
          "base_uri": "https://localhost:8080/"
        },
        "id": "90cowyqAQTQ9",
        "outputId": "f7913288-11e5-428b-f443-760bcd3ef959"
      },
      "execution_count": null,
      "outputs": [
        {
          "output_type": "execute_result",
          "data": {
            "text/plain": [
              "6"
            ]
          },
          "metadata": {},
          "execution_count": 86
        }
      ]
    },
    {
      "cell_type": "code",
      "source": [
        "m.set_interest(-5)\n",
        "m.get_interest()"
      ],
      "metadata": {
        "colab": {
          "base_uri": "https://localhost:8080/"
        },
        "id": "veN51Uho3ztc",
        "outputId": "9f0c3e27-ddfb-41df-8bbe-c0d7b8a9c090"
      },
      "execution_count": null,
      "outputs": [
        {
          "output_type": "stream",
          "name": "stdout",
          "text": [
            "Please give non-negative interest\n"
          ]
        },
        {
          "output_type": "execute_result",
          "data": {
            "text/plain": [
              "6"
            ]
          },
          "metadata": {},
          "execution_count": 92
        }
      ]
    },
    {
      "cell_type": "code",
      "source": [
        "print(m)"
      ],
      "metadata": {
        "colab": {
          "base_uri": "https://localhost:8080/"
        },
        "id": "c85F88TK5cMZ",
        "outputId": "4039ce48-7f06-465a-eb82-43977c082375"
      },
      "execution_count": null,
      "outputs": [
        {
          "output_type": "stream",
          "name": "stdout",
          "text": [
            "Mortgage info: \n",
            " Initial: $100000\n",
            " Term: 30 years \n",
            " Interest: 6%\n"
          ]
        }
      ]
    },
    {
      "cell_type": "code",
      "source": [
        "class A:\n",
        "  def __init__(self, item):\n",
        "    self.item = item\n",
        "  def whoAmI(self):\n",
        "    print('I am an instance of class A')\n",
        "\n",
        "class B:\n",
        "  def __init__(self, item):\n",
        "    self.item = item\n",
        "  def whoAmI(self):\n",
        "    print('I am an instance of class B')\n",
        "\n",
        "a = A(2)\n",
        "b = B(3)"
      ],
      "metadata": {
        "id": "taX4cF_q_Mdm"
      },
      "execution_count": null,
      "outputs": []
    },
    {
      "cell_type": "code",
      "source": [
        "b.whoAmI()"
      ],
      "metadata": {
        "colab": {
          "base_uri": "https://localhost:8080/"
        },
        "id": "R9zYgiG6_lY4",
        "outputId": "4def4e26-d2ac-4330-dd69-4dd187da5013"
      },
      "execution_count": null,
      "outputs": [
        {
          "output_type": "stream",
          "name": "stdout",
          "text": [
            "I am an instance of class B\n"
          ]
        }
      ]
    },
    {
      "cell_type": "code",
      "source": [
        "class Animal:\n",
        "  def __init__(self):\n",
        "    print(\"Animal created\")\n",
        "\n",
        "  def whoAmI(self):\n",
        "    print(\"I am an animal\")"
      ],
      "metadata": {
        "id": "I8ivsqY3Aalh"
      },
      "execution_count": null,
      "outputs": []
    },
    {
      "cell_type": "code",
      "source": [
        "class Bird(Animal):\n",
        "  def fly(self):\n",
        "    print('Birds can fly')"
      ],
      "metadata": {
        "id": "HLboznerAoMF"
      },
      "execution_count": null,
      "outputs": []
    },
    {
      "cell_type": "code",
      "source": [
        "b = Bird()\n",
        "b.whoAmI"
      ],
      "metadata": {
        "colab": {
          "base_uri": "https://localhost:8080/",
          "height": 122
        },
        "id": "gmto37AaBI8D",
        "outputId": "07f8fa08-d718-4f37-e2f9-9aa0688bb034"
      },
      "execution_count": null,
      "outputs": [
        {
          "output_type": "stream",
          "name": "stdout",
          "text": [
            "Animal created\n"
          ]
        },
        {
          "output_type": "execute_result",
          "data": {
            "text/plain": [
              "<bound method Animal.whoAmI of <__main__.Bird object at 0x7f589587e650>>"
            ],
            "text/html": [
              "<div style=\"max-width:800px; border: 1px solid var(--colab-border-color);\"><style>\n",
              "      pre.function-repr-contents {\n",
              "        overflow-x: auto;\n",
              "        padding: 8px 12px;\n",
              "        max-height: 500px;\n",
              "      }\n",
              "\n",
              "      pre.function-repr-contents.function-repr-contents-collapsed {\n",
              "        cursor: pointer;\n",
              "        max-height: 100px;\n",
              "      }\n",
              "    </style>\n",
              "    <pre style=\"white-space: initial; background:\n",
              "         var(--colab-secondary-surface-color); padding: 8px 12px;\n",
              "         border-bottom: 1px solid var(--colab-border-color);\"><b>Animal.whoAmI</b><br/>def whoAmI()</pre><pre class=\"function-repr-contents function-repr-contents-collapsed\" style=\"\"><a class=\"filepath\" style=\"display:none\" href=\"#\">/content/&lt;ipython-input-101-a194d23260e3&gt;</a>&lt;no docstring&gt;</pre></div>"
            ]
          },
          "metadata": {},
          "execution_count": 108
        }
      ]
    },
    {
      "cell_type": "code",
      "source": [
        "b.fly"
      ],
      "metadata": {
        "colab": {
          "base_uri": "https://localhost:8080/",
          "height": 104
        },
        "id": "1CxIGAdXBXWs",
        "outputId": "dc0dc5f0-27b4-474e-b75f-35a37fc3edd1"
      },
      "execution_count": null,
      "outputs": [
        {
          "output_type": "execute_result",
          "data": {
            "text/plain": [
              "<bound method Bird.fly of <__main__.Bird object at 0x7f589587e650>>"
            ],
            "text/html": [
              "<div style=\"max-width:800px; border: 1px solid var(--colab-border-color);\"><style>\n",
              "      pre.function-repr-contents {\n",
              "        overflow-x: auto;\n",
              "        padding: 8px 12px;\n",
              "        max-height: 500px;\n",
              "      }\n",
              "\n",
              "      pre.function-repr-contents.function-repr-contents-collapsed {\n",
              "        cursor: pointer;\n",
              "        max-height: 100px;\n",
              "      }\n",
              "    </style>\n",
              "    <pre style=\"white-space: initial; background:\n",
              "         var(--colab-secondary-surface-color); padding: 8px 12px;\n",
              "         border-bottom: 1px solid var(--colab-border-color);\"><b>Bird.fly</b><br/>def fly()</pre><pre class=\"function-repr-contents function-repr-contents-collapsed\" style=\"\"><a class=\"filepath\" style=\"display:none\" href=\"#\">/content/&lt;ipython-input-107-0396a79a8e4b&gt;</a>&lt;no docstring&gt;</pre></div>"
            ]
          },
          "metadata": {},
          "execution_count": 109
        }
      ]
    }
  ]
}