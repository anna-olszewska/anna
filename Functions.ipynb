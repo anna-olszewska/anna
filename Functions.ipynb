{
  "nbformat": 4,
  "nbformat_minor": 0,
  "metadata": {
    "colab": {
      "provenance": [],
      "authorship_tag": "ABX9TyNI7csom4lGeVNaacZdAiKq",
      "include_colab_link": true
    },
    "kernelspec": {
      "name": "python3",
      "display_name": "Python 3"
    },
    "language_info": {
      "name": "python"
    }
  },
  "cells": [
    {
      "cell_type": "markdown",
      "metadata": {
        "id": "view-in-github",
        "colab_type": "text"
      },
      "source": [
        "<a href=\"https://colab.research.google.com/github/anna-olszewska/anna/blob/main/Functions.ipynb\" target=\"_parent\"><img src=\"https://colab.research.google.com/assets/colab-badge.svg\" alt=\"Open In Colab\"/></a>"
      ]
    },
    {
      "cell_type": "code",
      "execution_count": null,
      "metadata": {
        "colab": {
          "base_uri": "https://localhost:8080/"
        },
        "id": "AXQ1ItbfjCrb",
        "outputId": "0ab9b07a-572e-4575-b64e-d7543c3a88a4"
      },
      "outputs": [
        {
          "output_type": "stream",
          "name": "stdout",
          "text": [
            "[1, 3, 5, 7, 9]\n"
          ]
        }
      ],
      "source": [
        "alist = []\n",
        "\n",
        "for i in range(10):\n",
        "  alist.append(i)\n",
        "  if i%2 == 0:\n",
        "    alist.pop()\n",
        "\n",
        "print(alist)"
      ]
    },
    {
      "cell_type": "code",
      "source": [
        "def fill(l):\n",
        "  for i in range(10):\n",
        "    l.append(i)\n",
        "    if i%2 == 0:\n",
        "      l.pop()\n",
        "  print(l)\n",
        "\n",
        "alist = []\n",
        "fill(alist)"
      ],
      "metadata": {
        "colab": {
          "base_uri": "https://localhost:8080/"
        },
        "id": "JgCDz4D1nMrW",
        "outputId": "98f2280f-7dba-4042-c242-89c3e43f55bf"
      },
      "execution_count": null,
      "outputs": [
        {
          "output_type": "stream",
          "name": "stdout",
          "text": [
            "[1, 3, 5, 7, 9]\n"
          ]
        }
      ]
    },
    {
      "cell_type": "markdown",
      "source": [
        "name of input paramenter like fill(l) does not have to match can be fill(alice)"
      ],
      "metadata": {
        "id": "NzYT2TGYotfa"
      }
    },
    {
      "cell_type": "code",
      "source": [
        "def greeting(n):\n",
        "  print(f'Hello {n}!')\n",
        "\n",
        "name = input('Enter a name: ')\n",
        "greeting(name)\n"
      ],
      "metadata": {
        "colab": {
          "base_uri": "https://localhost:8080/"
        },
        "id": "0F0lWxnnpv6D",
        "outputId": "6c0bcc8f-ad66-4d9c-c11a-237467ca6d90"
      },
      "execution_count": null,
      "outputs": [
        {
          "output_type": "stream",
          "name": "stdout",
          "text": [
            "Enter a name: Anna\n",
            "Hello Anna!\n"
          ]
        }
      ]
    },
    {
      "cell_type": "markdown",
      "source": [
        "two functions called are input and greeting"
      ],
      "metadata": {
        "id": "JQHghqeSr795"
      }
    },
    {
      "cell_type": "code",
      "source": [
        "def greeting(n):\n",
        "  return f'Hello {n}!'\n",
        "\n",
        "name = input('Enter a name: ')\n",
        "message = greeting(name)\n",
        "print(message)"
      ],
      "metadata": {
        "colab": {
          "base_uri": "https://localhost:8080/"
        },
        "id": "xzS804pAtO__",
        "outputId": "214c7306-219e-4d0a-fe0a-b1dd6fa9cfa7"
      },
      "execution_count": null,
      "outputs": [
        {
          "output_type": "stream",
          "name": "stdout",
          "text": [
            "Enter a name: anna\n",
            "Hello anna!\n"
          ]
        }
      ]
    },
    {
      "cell_type": "code",
      "source": [
        "def add_num(a, b):\n",
        "  c = a + b\n",
        "  c_sq = c ** 2\n",
        "  return c, c_sq\n",
        "\n",
        "x = 5\n",
        "y = 6\n",
        "c, c_sq = add_num(x, y)\n",
        "print(c_sq)"
      ],
      "metadata": {
        "colab": {
          "base_uri": "https://localhost:8080/"
        },
        "id": "shuQWOUptwXY",
        "outputId": "a8104eb5-14bc-4cc8-9ad7-1c46567c908b"
      },
      "execution_count": null,
      "outputs": [
        {
          "output_type": "stream",
          "name": "stdout",
          "text": [
            "121\n"
          ]
        }
      ]
    },
    {
      "cell_type": "code",
      "source": [
        "def add_num(a, b):\n",
        "  return a + b\n",
        "\n",
        "x = 5\n",
        "y = 6\n",
        "c = add_num(x, y)\n",
        "print(c)"
      ],
      "metadata": {
        "colab": {
          "base_uri": "https://localhost:8080/"
        },
        "id": "nAj3GZ6jvZnQ",
        "outputId": "21961a8d-1e1e-462a-b8f9-e4cc2d4a29ea"
      },
      "execution_count": null,
      "outputs": [
        {
          "output_type": "stream",
          "name": "stdout",
          "text": [
            "11\n"
          ]
        }
      ]
    },
    {
      "cell_type": "code",
      "source": [
        "def fill_new():\n",
        "  l = []\n",
        "\n",
        "  for i in range(10):\n",
        "    l.append(i)\n",
        "    if i%2 == 0:\n",
        "      l.pop()\n",
        "  print(l)\n",
        "\n",
        "\n",
        "fill_new()"
      ],
      "metadata": {
        "colab": {
          "base_uri": "https://localhost:8080/"
        },
        "id": "3ggT_YyswQdw",
        "outputId": "99866e2a-6d78-433b-ef35-4698bba99919"
      },
      "execution_count": null,
      "outputs": [
        {
          "output_type": "stream",
          "name": "stdout",
          "text": [
            "[1, 3, 5, 7, 9]\n"
          ]
        }
      ]
    },
    {
      "cell_type": "code",
      "source": [
        "def add_n(a, b):\n",
        "  return a + b\n",
        "\n",
        "c = add_n(5, b=6)\n",
        "print(c)"
      ],
      "metadata": {
        "colab": {
          "base_uri": "https://localhost:8080/"
        },
        "id": "SF4Lh1Bo2CcO",
        "outputId": "bc2f4c09-38bd-4cce-b26b-72faa14bcac6"
      },
      "execution_count": null,
      "outputs": [
        {
          "output_type": "stream",
          "name": "stdout",
          "text": [
            "11\n"
          ]
        }
      ]
    },
    {
      "cell_type": "code",
      "source": [
        "def f(x): #value used as formal parameter\n",
        "  y = 1\n",
        "  x = x + y\n",
        "  print(\"x =\", x)\n",
        "  return x\n",
        "\n",
        "x = 3\n",
        "y = 2\n",
        "z = f(x) #value of x used as actual parameter\n",
        "print(\"z =\", z)\n",
        "print(\"x =\", x)\n",
        "print(\"y =\", y)"
      ],
      "metadata": {
        "colab": {
          "base_uri": "https://localhost:8080/"
        },
        "id": "ztRTlAiHqHRi",
        "outputId": "92ca0d43-6cbf-454e-8c4b-e66bb6a10a5d"
      },
      "execution_count": null,
      "outputs": [
        {
          "output_type": "stream",
          "name": "stdout",
          "text": [
            "x = 4\n",
            "z = 4\n",
            "x = 3\n",
            "y = 2\n"
          ]
        }
      ]
    }
  ]
}